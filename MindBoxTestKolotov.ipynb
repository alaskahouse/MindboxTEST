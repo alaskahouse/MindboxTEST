{
 "cells": [
  {
   "cell_type": "code",
   "execution_count": 1,
   "metadata": {},
   "outputs": [
    {
     "name": "stdout",
     "output_type": "stream",
     "text": [
      "defaultdict(<class 'int'>, {32: 2, 33: 1, 34: 1, 26: 1, 27: 1, 28: 1, 29: 1, 30: 1, 31: 1})\n",
      "defaultdict(<class 'int'>, {32: 2, 33: 1, 34: 1, 26: 1, 27: 1, 28: 1, 29: 1, 30: 1, 31: 1, 0: 1, 1: 1, 2: 1, 3: 1, 4: 1, 5: 1, 6: 1, 7: 1, 8: 1, 9: 1})\n"
     ]
    }
   ],
   "source": [
    "from collections import defaultdict\n",
    "\n",
    "Groups = defaultdict(int) #Если нужно чтобы данные не пропадали, то обьявляем вне блока как глоабльную переменную\n",
    "\n",
    "def GroupID(customer_id):\n",
    "    GroupId = sum(map(int, list(str(customer_id))))\n",
    "    return GroupId\n",
    "\n",
    "def CountCustomersGroup0 (n_customers):\n",
    "    #Groups = defaultdict(int)  ##Если нужно чтобы результат сбрасывался и считался заново, то объявляем тут\n",
    "    IDs = [UsersID for UsersID in range(n_customers)]\n",
    "    for customer_id in IDs:\n",
    "        Groups[GroupID(customer_id)] += 1\n",
    "    return Groups\n",
    "\n",
    "def CountCustomersGroupRandomId (n_customers, n_first_id):\n",
    "    IDs = [UsersID for UsersID in range(n_first_id, n_first_id + n_customers)]\n",
    "    for customer_id in IDs:\n",
    "        Groups[GroupID(customer_id)] += 1\n",
    "    return Groups\n",
    "\n",
    "print(CountCustomersGroupRandomId(10, 7412567))\n",
    "print(CountCustomersGroup0(10))"
   ]
  },
  {
   "cell_type": "code",
   "execution_count": 24,
   "metadata": {},
   "outputs": [
    {
     "data": {
      "text/plain": [
       "'0000000'"
      ]
     },
     "execution_count": 24,
     "metadata": {},
     "output_type": "execute_result"
    }
   ],
   "source": []
  }
 ],
 "metadata": {
  "kernelspec": {
   "display_name": "Python 3.10.4 64-bit",
   "language": "python",
   "name": "python3"
  },
  "language_info": {
   "codemirror_mode": {
    "name": "ipython",
    "version": 3
   },
   "file_extension": ".py",
   "mimetype": "text/x-python",
   "name": "python",
   "nbconvert_exporter": "python",
   "pygments_lexer": "ipython3",
   "version": "3.10.4"
  },
  "orig_nbformat": 4,
  "vscode": {
   "interpreter": {
    "hash": "45181bf35a62443b9385974df6fb9c881656510a26d3d72ea37359275da11e5c"
   }
  }
 },
 "nbformat": 4,
 "nbformat_minor": 2
}
